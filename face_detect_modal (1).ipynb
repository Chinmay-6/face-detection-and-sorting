{
  "nbformat": 4,
  "nbformat_minor": 0,
  "metadata": {
    "colab": {
      "provenance": [],
      "gpuType": "T4"
    },
    "kernelspec": {
      "name": "python3",
      "display_name": "Python 3"
    },
    "language_info": {
      "name": "python"
    },
    "accelerator": "GPU"
  },
  "cells": [
    {
      "cell_type": "code",
      "execution_count": null,
      "metadata": {
        "id": "QCVGaw3xJzqR"
      },
      "outputs": [],
      "source": [
        "!pip install ultralytics\n",
        "!pip install gradio\n",
        "!pip install pandas\n",
        "!pip install deepface\n",
        "!pip install pillow\n",
        "!pip install opencv-python\n",
        "!pip install face_recognition"
      ]
    },
    {
      "cell_type": "code",
      "source": [
        "import os\n",
        "import cv2\n",
        "import shutil\n",
        "import face_recognition\n",
        "\n",
        "def detect_faces_face_recognition(image_path):\n",
        "    \"\"\"Detect faces in an image using the face_recognition library and return the face encodings.\"\"\"\n",
        "    image = face_recognition.load_image_file(image_path)\n",
        "    face_locations = face_recognition.face_locations(image)\n",
        "    face_encodings = face_recognition.face_encodings(image, face_locations)\n",
        "    return face_encodings\n",
        "\n",
        "def copy_matching_images(input_image_path, album_dir, output_dir, tolerance=0.5):\n",
        "    \"\"\"Copy matching images from album directory to output directory based on face recognition.\"\"\"\n",
        "    os.makedirs(output_dir, exist_ok=True)\n",
        "\n",
        "    print(\"Finding matches for:\", input_image_path)\n",
        "\n",
        "    # Detect and encode the face(s) in the input image\n",
        "    input_encodings = detect_faces_face_recognition(input_image_path)\n",
        "\n",
        "    if not input_encodings:\n",
        "        print(\"No faces detected in the input image.\")\n",
        "        return\n",
        "\n",
        "    input_encoding = input_encodings[0]  # Assuming we are using the first detected face\n",
        "\n",
        "    # Iterate through all images in the album directory\n",
        "    for filename in os.listdir(album_dir):\n",
        "        if filename.lower().endswith(('.png', '.jpg', '.jpeg')):\n",
        "            album_image_path = os.path.join(album_dir, filename)\n",
        "\n",
        "            # Detect faces and get encodings for each face in the album image\n",
        "            album_encodings = detect_faces_face_recognition(album_image_path)\n",
        "\n",
        "            # Check if any face in the album matches the input face\n",
        "            match_found = any(face_recognition.compare_faces([input_encoding], album_encoding, tolerance=tolerance)[0]\n",
        "                              for album_encoding in album_encodings)\n",
        "\n",
        "            if match_found:\n",
        "                print(f\"Match found: {filename}\")\n",
        "                shutil.copy(album_image_path, os.path.join(output_dir, filename))\n",
        "            else:\n",
        "                print(f\"No match for: {filename}\")\n",
        "\n",
        "    print(\"Matching process completed.\")\n",
        "\n",
        "if __name__ == \"__main__\":\n",
        "    input_image_path = input(\"Enter the path to the input image: \").strip()\n",
        "    album_dir = input(\"Enter the directory of the photo shoot album: \").strip()\n",
        "    output_dir = input(\"Enter the output directory for matching images: \").strip()\n",
        "\n",
        "    if not os.path.isfile(input_image_path):\n",
        "        print(\"The specified input image does not exist.\")\n",
        "    else:\n",
        "        # Run the matching process\n",
        "        copy_matching_images(input_image_path, album_dir, output_dir)\n",
        "\n",
        "    # Print the results (list of copied images)\n",
        "    print(\"\\nMatching Images Copied to\", output_dir + \":\")\n",
        "    for filename in os.listdir(output_dir):\n",
        "        print(filename)"
      ],
      "metadata": {
        "id": "Bs8YPLu7J_60"
      },
      "execution_count": null,
      "outputs": []
    },
    {
      "cell_type": "code",
      "source": [],
      "metadata": {
        "id": "pNCdxTReKBIv"
      },
      "execution_count": null,
      "outputs": []
    }
  ]
}